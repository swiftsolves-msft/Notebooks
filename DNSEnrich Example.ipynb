{
  "cells": [
    {
      "cell_type": "markdown",
      "source": [
        "---\r\n",
        "## Installing the required PowerShell modules\r\n",
        "Code cells behave in the same way your code would in other environments, so you need to remember about common coding practices such as variable initialization and module/library imports. For this notebook you only need to make sure to install the required PowerShell modules since those are not installed by default."
      ],
      "metadata": {
        "nteract": {
          "transient": {
            "deleting": false
          }
        }
      }
    },
    {
      "cell_type": "code",
      "source": [
        "##Installs modules necessary to run notebook\r\n",
        "Install-Module DnsClient-PS,Az.Storage -Force -AcceptLicense"
      ],
      "outputs": [],
      "execution_count": null,
      "metadata": {
        "collapsed": true,
        "jupyter": {
          "source_hidden": false,
          "outputs_hidden": false
        },
        "nteract": {
          "transient": {
            "deleting": false
          }
        },
        "gather": {
          "logged": 1621369199214
        }
      }
    },
    {
      "cell_type": "markdown",
      "source": [
        "---\r\n",
        "## Connect to your Azure Sentinel workspace\r\n",
        "Once you have configured your notebook, now you can connect to your workspace.\r\n",
        "\r\n",
        "> **Note**: <br>\r\n",
        "- We changed the default foreground colors in case you are using the \"Light\" notebook UI theme, since the yellow output will be hard to see.  Feel free to modify.\r\n",
        "<br>\r\n",
        "<br>\r\n"
      ],
      "metadata": {
        "nteract": {
          "transient": {
            "deleting": false
          }
        }
      }
    },
    {
      "cell_type": "code",
      "source": [
        "##Get your configuration file settings\r\n",
        "$nbcontentpath = \"config.json\"\r\n",
        "if(!(test-path $nbcontentpath)){\r\n",
        "    write-host \"INFO: Your configuration path ($nbcontentpath) could not be located.\"\r\n",
        "    write-host \"INFO: Attempting to build the file path explicitly.  If this continues to be a problem, run 'dir' within the cell to find the current working directory and update the `$nbcontentpath variable accordingly.\"    \r\n",
        "    $username = read-host \"Enter the user name used for the notebook file explorer (the name of the top level folder):\"\r\n",
        "    $nbcontentpath = \"users\\$username\\config.json\"\r\n",
        "}\r\n",
        "\r\n",
        "##Path fix in case you picked up the cookie cutter configuration file (if you cloned repo from GitHub in terminal)\r\n",
        "if(test-path $nbcontentpath){\r\n",
        "    $content = gc $nbcontentpath | ?{$_ -match \"cookiecutter\"}\r\n",
        "    if($content.Length -gt 0) {\r\n",
        "        $nbcontentpath = \"..\\\" + $nbcontentpath\r\n",
        "    }    \r\n",
        "}\r\n",
        "\r\n",
        "try {\r\n",
        "    $nbconfigcontent = Get-Content $nbcontentpath -ErrorAction Stop    \r\n",
        "}\r\n",
        "catch {\r\n",
        "    write-host \"ERROR: Your configuration path ($nbcontentpath) could not be located. Please fix before continuing further.\"    \r\n",
        "}\r\n",
        "\r\n",
        "##Set variables you will use throughout the notebook\r\n",
        "$tenantId =  ($nbconfigcontent | ConvertFrom-Json).tenant_id\r\n",
        "$subscriptionId = ($nbconfigcontent | ConvertFrom-Json).subscription_id\r\n",
        "$resourceGroup = ($nbconfigcontent | ConvertFrom-Json).resource_group\r\n",
        "$workspaceName = ($nbconfigcontent | ConvertFrom-Json).workspace_name\r\n",
        "$workspaceId = ($nbconfigcontent | ConvertFrom-Json).workspace_id\r\n",
        "\r\n",
        "Write-Host \"SubscriptionId: \" $subscriptionId \r\n",
        "Write-Host \"TenantId: \" $tenantId\r\n",
        "Write-Host \"WorkspaceId: \" $workspaceId\r\n",
        "Write-Host \"workspaceName: \" $workspaceName \r\n",
        "\r\n",
        "#Change the default colors used for PowerShell warnings as they make the Connect-AzAccount output difficult to see \r\n",
        "$Host.PrivateData.WarningBackgroundColor = \"White\"\r\n",
        "$Host.PrivateData.WarningForegroundColor = \"Black\"\r\n",
        "\r\n",
        "##Connect to selected subscription\r\n",
        "Connect-AzAccount -UseDeviceAuthentication\r\n",
        "Select-AzSubscription -SubscriptionId $subscriptionId -TenantId $tenantId\r\n",
        "\r\n",
        "##Configure the Log Analytics workspace\r\n",
        "$workspace = $null\r\n",
        "$workspaces = Get-AzOperationalInsightsWorkspace -ResourceGroupName $resourceGroup\r\n",
        "if($workspaces.Length -gt 1) {\r\n",
        "    Write-Host \"INFO: Multiple workspaces detected.\" \r\n",
        "    foreach($wksp in $workspaces){\r\n",
        "        if($wksp.Name -eq $workspaceName)    {\r\n",
        "          $workspace = $wksp\r\n",
        "        }        \r\n",
        "    }    \r\n",
        "}\r\n",
        "else {\r\n",
        "     $workspace = $workspaces \r\n",
        "}\r\n",
        "Write-Host \"INFO: Ensure that the workspace -- {\"$workspace.Name\"} is the intended target workspace before continuing to the next cell.\"   \r\n",
        "$workspace\r\n"
      ],
      "outputs": [],
      "execution_count": null,
      "metadata": {
        "collapsed": true,
        "jupyter": {
          "source_hidden": false,
          "outputs_hidden": false
        },
        "nteract": {
          "transient": {
            "deleting": false
          }
        },
        "gather": {
          "logged": 1621425882162
        }
      }
    },
    {
      "cell_type": "markdown",
      "source": [
        "---\r\n",
        "## DNS Lookup Enrichment example"
      ],
      "metadata": {
        "nteract": {
          "transient": {
            "deleting": false
          }
        }
      }
    },
    {
      "cell_type": "code",
      "source": [
        "##Query the Log Analytics table\r\n",
        "$query = @\"\r\n",
        "    let blobsuffix = \".blob.core.windows.net\";\r\n",
        "    let filesuffix = \".file.core.windows.net\";\r\n",
        "    let queuesuffix = \".queue.core.windows.net\";\r\n",
        "    let tablesuffix = \".table.core.windows.net\";\r\n",
        "    AzureActivity\r\n",
        "    | where TimeGenerated >= ago(30d)\r\n",
        "    | where ResourceProviderValue == \"Microsoft.Storage\"\r\n",
        "    | extend blobfqdn = strcat(Resource,blobsuffix), filefqdn = strcat(Resource,filesuffix)\r\n",
        "    | extend queuefqdn = strcat(Resource,queuesuffix), tablefqdn = strcat(Resource,tablesuffix)\r\n",
        "    | summarize by Resource,Caller,CallerIpAddress,blobfqdn    \r\n",
        "\"@\r\n",
        "\r\n",
        "##Run query and add results to object. Now you can use object to display data or graph\r\n",
        "$queryResults = Invoke-AzOperationalInsightsQuery -Workspace $Workspace -query $query\r\n",
        "Write-Host $resulttable = $queryResults.Results\r\n",
        "\r\n",
        "# Build output file\r\n",
        "$datetime = Get-Date -Format \"yyyyMMddhhmmss\"\r\n",
        "$filename = $datetime + \"results.csv\"\r\n",
        "$csvpath = \"./outputs/\" + $filename\r\n",
        "\"Resource,Caller,CallerIpAddress,blobfqdn,dnsresolveip\" | Out-File $csvpath -Append -Force\r\n",
        "\r\n",
        "foreach($fqdnresult in $resulttable) {\r\n",
        "\r\n",
        "    $dnsresult = ((Resolve-Dns -$fqdnresult.blobfqdn).Answers | Where-Object {$_.RecordType -eq \"A\"}).Address.IPAddressToString\r\n",
        "    $stringinsert = \"$($fqdnresult.Resource),$($fqdnresult.Caller),$($fqdnresult.CallerIpAddress),$($fqdnresult.blobfqdn),$($dnsresult)\"\r\n",
        "    $stringinsert | Out-File $csvpath -Append -Force\r\n",
        "}\r\n",
        "\r\n",
        "Write-Host $csvpath"
      ],
      "outputs": [],
      "execution_count": null,
      "metadata": {
        "gather": {
          "logged": 1621441515377
        }
      }
    },
    {
      "cell_type": "code",
      "source": [
        "$results = Import-Csv $csvpath\r\n",
        "$results = $results | Select blobfqdn, dnsresolveip\r\n",
        "$results | FT -AutoSize"
      ],
      "outputs": [],
      "execution_count": null,
      "metadata": {
        "collapsed": true,
        "jupyter": {
          "source_hidden": false,
          "outputs_hidden": false
        },
        "nteract": {
          "transient": {
            "deleting": false
          }
        },
        "gather": {
          "logged": 1621441273942
        }
      }
    },
    {
      "cell_type": "markdown",
      "source": [
        "---\r\n",
        "## Create External Lookup Table"
      ],
      "metadata": {
        "nteract": {
          "transient": {
            "deleting": false
          }
        }
      }
    },
    {
      "cell_type": "markdown",
      "source": [
        "fill in variables below of storage account name, resource group name of storage account, and conatiner in storage account"
      ],
      "metadata": {
        "nteract": {
          "transient": {
            "deleting": false
          }
        }
      }
    },
    {
      "cell_type": "code",
      "source": [
        "$storename = \"ACCOUNTNAMElookups\"\r\n",
        "$rgname = \"rgLookups\"\r\n",
        "$container = \"privlookups\"\r\n",
        "\r\n",
        "$key = Get-AzStorageAccountKey -ResourceGroupName $rgname -Name $storename\r\n",
        "\r\n",
        "$ctx = New-AzStorageContext -StorageAccountName $storename -StorageAccountKey $key.value[0]"
      ],
      "outputs": [],
      "execution_count": 18,
      "metadata": {
        "collapsed": true,
        "jupyter": {
          "source_hidden": false,
          "outputs_hidden": false
        },
        "nteract": {
          "transient": {
            "deleting": false
          }
        },
        "gather": {
          "logged": 1621441317760
        }
      }
    },
    {
      "cell_type": "code",
      "source": [
        "$upload = Set-AzStorageBlobContent -File $csvpath `\r\n",
        "  -Container $container `\r\n",
        "  -Blob $filename `\r\n",
        "  -Context $ctx\r\n",
        "$upload"
      ],
      "outputs": [],
      "execution_count": null,
      "metadata": {
        "collapsed": true,
        "jupyter": {
          "source_hidden": false,
          "outputs_hidden": false
        },
        "nteract": {
          "transient": {
            "deleting": false
          }
        },
        "gather": {
          "logged": 1621441324740
        }
      }
    },
    {
      "cell_type": "code",
      "source": [
        "$uri = $upload.BlobBaseClient.uri.AbsoluteUri\r\n",
        "\r\n",
        "$blobsas = New-AzStorageBlobSASToken -Container $container -Blob $filename -Permission rwdl -Context $ctx\r\n",
        "\r\n",
        "$blobsasuri = $uri + $blobsas\r\n",
        "\r\n",
        "Write-Host $blobsasuri"
      ],
      "outputs": [],
      "execution_count": null,
      "metadata": {
        "collapsed": true,
        "jupyter": {
          "source_hidden": false,
          "outputs_hidden": false
        },
        "nteract": {
          "transient": {
            "deleting": false
          }
        },
        "gather": {
          "logged": 1621449159226
        }
      }
    },
    {
      "cell_type": "markdown",
      "source": [
        "Lookup with the external table\r\n",
        "\r\n",
        "Fill in SASURIHERE below in code from above SAS Token ghenerated"
      ],
      "metadata": {
        "nteract": {
          "transient": {
            "deleting": false
          }
        }
      }
    },
    {
      "cell_type": "code",
      "source": [
        "##Query the Log Analytics table\r\n",
        "$query = @\"\r\n",
        "    let StorageIPs = externaldata(Resource:string, Caller:string, CallerIPAddress:string, blobfqdn:string, dnsresolveip:string)\r\n",
        "    [h@\"SASURIHERE\"] with(ignoreFirstRecord=true, format=\"csv\");\r\n",
        "    let blobsuffix = \".blob.core.windows.net\";\r\n",
        "    let filesuffix = \".file.core.windows.net\";\r\n",
        "    let queuesuffix = \".queue.core.windows.net\";\r\n",
        "    let tablesuffix = \".table.core.windows.net\";\r\n",
        "    AzureActivity\r\n",
        "    | where TimeGenerated >= ago(30d)\r\n",
        "    | where ResourceProviderValue == \"Microsoft.Storage\"\r\n",
        "    | extend blobfqdn = strcat(Resource,blobsuffix), filefqdn = strcat(Resource,filesuffix)\r\n",
        "    | extend queuefqdn = strcat(Resource,queuesuffix), tablefqdn = strcat(Resource,tablesuffix)\r\n",
        "    | join kind = leftouter (StorageIPs) on $left.blobfqdn == $right.blobfqdn\r\n",
        "    | summarize by OperationName, Resource, dnsresolveip, Caller, CallerIpAddress, blobfqdn\r\n",
        "\"@\r\n",
        "\r\n",
        "##Run query and add results to object. Now you can use object to display data or graph\r\n",
        "$queryResults = Invoke-AzOperationalInsightsQuery -Workspace $Workspace -query $query -Debug\r\n",
        "$resulttable = $queryResults.Results"
      ],
      "outputs": [],
      "execution_count": null,
      "metadata": {
        "collapsed": true,
        "jupyter": {
          "source_hidden": false,
          "outputs_hidden": false
        },
        "nteract": {
          "transient": {
            "deleting": false
          }
        },
        "gather": {
          "logged": 1621445323360
        }
      }
    }
  ],
  "metadata": {
    "kernelspec": {
      "name": ".net-powershell",
      "language": "PowerShell",
      "display_name": ".NET (PowerShell)"
    },
    "language_info": {
      "name": "PowerShell",
      "version": "7.0",
      "mimetype": "text/x-powershell",
      "file_extension": ".ps1",
      "pygments_lexer": "powershell"
    },
    "kernel_info": {
      "name": ".net-powershell"
    },
    "microsoft": {
      "host": {
        "AzureML": {
          "notebookHasBeenCompleted": true
        }
      }
    },
    "nteract": {
      "version": "nteract-front-end@1.0.0"
    }
  },
  "nbformat": 4,
  "nbformat_minor": 2
}